{
  "nbformat": 4,
  "nbformat_minor": 0,
  "metadata": {
    "colab": {
      "name": "Apply_Rate.ipynb",
      "version": "0.3.2",
      "provenance": []
    },
    "kernelspec": {
      "display_name": "Python 3",
      "language": "python",
      "name": "python3"
    },
    "accelerator": "TPU"
  },
  "cells": [
    {
      "metadata": {
        "colab_type": "code",
        "id": "y_s5rbXeIduB",
        "colab": {}
      },
      "cell_type": "code",
      "source": [
        "import pandas as pd\n",
        "import numpy as np\n",
        "import matplotlib.pyplot as plt\n",
        "from sklearn.model_selection import GridSearchCV\n",
        "from sklearn.metrics import classification_report, confusion_matrix, precision_recall_fscore_support, accuracy_score, roc_auc_score"
      ],
      "execution_count": 0,
      "outputs": []
    },
    {
      "metadata": {
        "id": "ISco9swtpr0G",
        "colab_type": "code",
        "colab": {}
      },
      "cell_type": "code",
      "source": [
        ""
      ],
      "execution_count": 0,
      "outputs": []
    },
    {
      "metadata": {
        "colab_type": "code",
        "id": "Nj1l0nzcIsV4",
        "outputId": "f2e04170-ff43-4fa6-b88a-7c385026b504",
        "colab": {
          "base_uri": "https://localhost:8080/",
          "height": 34
        }
      },
      "cell_type": "code",
      "source": [
        "df = pd.read_csv('./Apply_Rate_2019.csv')\n",
        "df.shape"
      ],
      "execution_count": 2,
      "outputs": [
        {
          "output_type": "execute_result",
          "data": {
            "text/plain": [
              "(1200890, 10)"
            ]
          },
          "metadata": {
            "tags": []
          },
          "execution_count": 2
        }
      ]
    },
    {
      "metadata": {
        "id": "FP85NcoV742h",
        "colab_type": "code",
        "outputId": "e0a8f02b-b9c7-43f1-e29f-e788aa946adf",
        "colab": {
          "base_uri": "https://localhost:8080/",
          "height": 85
        }
      },
      "cell_type": "code",
      "source": [
        "df.columns"
      ],
      "execution_count": 3,
      "outputs": [
        {
          "output_type": "execute_result",
          "data": {
            "text/plain": [
              "Index(['title_proximity_tfidf', 'description_proximity_tfidf',\n",
              "       'main_query_tfidf', 'query_jl_score', 'query_title_score', 'city_match',\n",
              "       'job_age_days', 'apply', 'search_date_pacific', 'class_id'],\n",
              "      dtype='object')"
            ]
          },
          "metadata": {
            "tags": []
          },
          "execution_count": 3
        }
      ]
    },
    {
      "metadata": {
        "id": "75VbG78-79Ro",
        "colab_type": "code",
        "colab": {}
      },
      "cell_type": "code",
      "source": [
        "not_cat_cols = ['title_proximity_tfidf', 'description_proximity_tfidf', 'main_query_tfidf', 'query_jl_score', 'query_title_score',  'job_age_days']"
      ],
      "execution_count": 0,
      "outputs": []
    },
    {
      "metadata": {
        "colab_type": "code",
        "id": "MSCrtPkiNSmL",
        "outputId": "6b8da50e-68a8-44a6-daeb-26f9d3ac40a3",
        "colab": {
          "base_uri": "https://localhost:8080/",
          "height": 359
        }
      },
      "cell_type": "code",
      "source": [
        "df.head().T"
      ],
      "execution_count": 5,
      "outputs": [
        {
          "output_type": "execute_result",
          "data": {
            "text/plain": [
              "                                                0                     1  \\\n",
              "title_proximity_tfidf                           0                11.874   \n",
              "description_proximity_tfidf                     0              0.043637   \n",
              "main_query_tfidf                                0               2.52708   \n",
              "query_jl_score                         0.00482431             0.0119353   \n",
              "query_title_score                      0.00662807              0.011208   \n",
              "city_match                                      0                     0   \n",
              "job_age_days                                    5                     5   \n",
              "apply                                           0                     0   \n",
              "search_date_pacific                    2018-01-21            2018-01-21   \n",
              "class_id                     -7613806991329176388  -1361819269400927213   \n",
              "\n",
              "                                                2                     3  \\\n",
              "title_proximity_tfidf                      11.874                     0   \n",
              "description_proximity_tfidf              0.043637                     0   \n",
              "main_query_tfidf                          2.52708               3.69581   \n",
              "query_jl_score                          0.0119353             0.0130464   \n",
              "query_title_score                        0.011208             0.0333403   \n",
              "city_match                                      0                     0   \n",
              "job_age_days                                    5                     5   \n",
              "apply                                           1                     0   \n",
              "search_date_pacific                    2018-01-21            2018-01-23   \n",
              "class_id                     -1361819269400927213  -3623880078591607667   \n",
              "\n",
              "                                                4  \n",
              "title_proximity_tfidf                         NaN  \n",
              "description_proximity_tfidf                   NaN  \n",
              "main_query_tfidf                           7.8689  \n",
              "query_jl_score                         0.00806452  \n",
              "query_title_score                      0.00877193  \n",
              "city_match                                      0  \n",
              "job_age_days                                    7  \n",
              "apply                                           0  \n",
              "search_date_pacific                    2018-01-24  \n",
              "class_id                     -7054510112423797411  "
            ],
            "text/html": [
              "<div>\n",
              "<style scoped>\n",
              "    .dataframe tbody tr th:only-of-type {\n",
              "        vertical-align: middle;\n",
              "    }\n",
              "\n",
              "    .dataframe tbody tr th {\n",
              "        vertical-align: top;\n",
              "    }\n",
              "\n",
              "    .dataframe thead th {\n",
              "        text-align: right;\n",
              "    }\n",
              "</style>\n",
              "<table border=\"1\" class=\"dataframe\">\n",
              "  <thead>\n",
              "    <tr style=\"text-align: right;\">\n",
              "      <th></th>\n",
              "      <th>0</th>\n",
              "      <th>1</th>\n",
              "      <th>2</th>\n",
              "      <th>3</th>\n",
              "      <th>4</th>\n",
              "    </tr>\n",
              "  </thead>\n",
              "  <tbody>\n",
              "    <tr>\n",
              "      <th>title_proximity_tfidf</th>\n",
              "      <td>0</td>\n",
              "      <td>11.874</td>\n",
              "      <td>11.874</td>\n",
              "      <td>0</td>\n",
              "      <td>NaN</td>\n",
              "    </tr>\n",
              "    <tr>\n",
              "      <th>description_proximity_tfidf</th>\n",
              "      <td>0</td>\n",
              "      <td>0.043637</td>\n",
              "      <td>0.043637</td>\n",
              "      <td>0</td>\n",
              "      <td>NaN</td>\n",
              "    </tr>\n",
              "    <tr>\n",
              "      <th>main_query_tfidf</th>\n",
              "      <td>0</td>\n",
              "      <td>2.52708</td>\n",
              "      <td>2.52708</td>\n",
              "      <td>3.69581</td>\n",
              "      <td>7.8689</td>\n",
              "    </tr>\n",
              "    <tr>\n",
              "      <th>query_jl_score</th>\n",
              "      <td>0.00482431</td>\n",
              "      <td>0.0119353</td>\n",
              "      <td>0.0119353</td>\n",
              "      <td>0.0130464</td>\n",
              "      <td>0.00806452</td>\n",
              "    </tr>\n",
              "    <tr>\n",
              "      <th>query_title_score</th>\n",
              "      <td>0.00662807</td>\n",
              "      <td>0.011208</td>\n",
              "      <td>0.011208</td>\n",
              "      <td>0.0333403</td>\n",
              "      <td>0.00877193</td>\n",
              "    </tr>\n",
              "    <tr>\n",
              "      <th>city_match</th>\n",
              "      <td>0</td>\n",
              "      <td>0</td>\n",
              "      <td>0</td>\n",
              "      <td>0</td>\n",
              "      <td>0</td>\n",
              "    </tr>\n",
              "    <tr>\n",
              "      <th>job_age_days</th>\n",
              "      <td>5</td>\n",
              "      <td>5</td>\n",
              "      <td>5</td>\n",
              "      <td>5</td>\n",
              "      <td>7</td>\n",
              "    </tr>\n",
              "    <tr>\n",
              "      <th>apply</th>\n",
              "      <td>0</td>\n",
              "      <td>0</td>\n",
              "      <td>1</td>\n",
              "      <td>0</td>\n",
              "      <td>0</td>\n",
              "    </tr>\n",
              "    <tr>\n",
              "      <th>search_date_pacific</th>\n",
              "      <td>2018-01-21</td>\n",
              "      <td>2018-01-21</td>\n",
              "      <td>2018-01-21</td>\n",
              "      <td>2018-01-23</td>\n",
              "      <td>2018-01-24</td>\n",
              "    </tr>\n",
              "    <tr>\n",
              "      <th>class_id</th>\n",
              "      <td>-7613806991329176388</td>\n",
              "      <td>-1361819269400927213</td>\n",
              "      <td>-1361819269400927213</td>\n",
              "      <td>-3623880078591607667</td>\n",
              "      <td>-7054510112423797411</td>\n",
              "    </tr>\n",
              "  </tbody>\n",
              "</table>\n",
              "</div>"
            ]
          },
          "metadata": {
            "tags": []
          },
          "execution_count": 5
        }
      ]
    },
    {
      "metadata": {
        "colab_type": "code",
        "id": "fZNz52RpL1fh",
        "outputId": "1288bf15-1fd8-4be6-a948-a0c0df4863c2",
        "colab": {
          "base_uri": "https://localhost:8080/",
          "height": 297
        }
      },
      "cell_type": "code",
      "source": [
        "df.describe()"
      ],
      "execution_count": 0,
      "outputs": [
        {
          "output_type": "execute_result",
          "data": {
            "text/plain": [
              "       title_proximity_tfidf  description_proximity_tfidf  main_query_tfidf  \\\n",
              "count          948319.000000                948319.000000      1.200890e+06   \n",
              "mean                5.889800                     0.096119      1.770301e+00   \n",
              "std                 9.749672                     0.284249      2.237259e+00   \n",
              "min                 0.000000                     0.000000      0.000000e+00   \n",
              "25%                 0.000000                     0.000000      0.000000e+00   \n",
              "50%                 0.000000                     0.000000      2.509947e-01   \n",
              "75%                11.642839                     0.063633      3.423265e+00   \n",
              "max                93.516720                     7.301161      1.774189e+01   \n",
              "\n",
              "       query_jl_score  query_title_score     city_match  job_age_days  \\\n",
              "count    1.200890e+06       1.200890e+06  944335.000000  1.200890e+06   \n",
              "mean     1.711024e-02       3.580456e-02       0.563676  1.010130e+01   \n",
              "std      1.220871e-02       4.886690e-02       0.495929  1.738912e+01   \n",
              "min      1.000000e-06       9.998021e-07       0.000000  0.000000e+00   \n",
              "25%      1.063830e-02       1.256780e-02       0.000000  2.000000e+00   \n",
              "50%      1.578868e-02       2.066189e-02       1.000000  6.000000e+00   \n",
              "75%      2.043710e-02       3.760018e-02       1.000000  1.400000e+01   \n",
              "max      2.556893e-01       1.294088e+00       1.000000  1.340000e+03   \n",
              "\n",
              "              apply      class_id  \n",
              "count  1.200890e+06  1.200890e+06  \n",
              "mean   8.993580e-02 -3.956263e+17  \n",
              "std    2.860899e-01  5.664017e+18  \n",
              "min    0.000000e+00 -9.049388e+18  \n",
              "25%    0.000000e+00 -4.593390e+18  \n",
              "50%    0.000000e+00 -1.614083e+18  \n",
              "75%    0.000000e+00  4.315422e+18  \n",
              "max    1.000000e+00  9.204124e+18  "
            ],
            "text/html": [
              "<div>\n",
              "<style scoped>\n",
              "    .dataframe tbody tr th:only-of-type {\n",
              "        vertical-align: middle;\n",
              "    }\n",
              "\n",
              "    .dataframe tbody tr th {\n",
              "        vertical-align: top;\n",
              "    }\n",
              "\n",
              "    .dataframe thead th {\n",
              "        text-align: right;\n",
              "    }\n",
              "</style>\n",
              "<table border=\"1\" class=\"dataframe\">\n",
              "  <thead>\n",
              "    <tr style=\"text-align: right;\">\n",
              "      <th></th>\n",
              "      <th>title_proximity_tfidf</th>\n",
              "      <th>description_proximity_tfidf</th>\n",
              "      <th>main_query_tfidf</th>\n",
              "      <th>query_jl_score</th>\n",
              "      <th>query_title_score</th>\n",
              "      <th>city_match</th>\n",
              "      <th>job_age_days</th>\n",
              "      <th>apply</th>\n",
              "      <th>class_id</th>\n",
              "    </tr>\n",
              "  </thead>\n",
              "  <tbody>\n",
              "    <tr>\n",
              "      <th>count</th>\n",
              "      <td>948319.000000</td>\n",
              "      <td>948319.000000</td>\n",
              "      <td>1.200890e+06</td>\n",
              "      <td>1.200890e+06</td>\n",
              "      <td>1.200890e+06</td>\n",
              "      <td>944335.000000</td>\n",
              "      <td>1.200890e+06</td>\n",
              "      <td>1.200890e+06</td>\n",
              "      <td>1.200890e+06</td>\n",
              "    </tr>\n",
              "    <tr>\n",
              "      <th>mean</th>\n",
              "      <td>5.889800</td>\n",
              "      <td>0.096119</td>\n",
              "      <td>1.770301e+00</td>\n",
              "      <td>1.711024e-02</td>\n",
              "      <td>3.580456e-02</td>\n",
              "      <td>0.563676</td>\n",
              "      <td>1.010130e+01</td>\n",
              "      <td>8.993580e-02</td>\n",
              "      <td>-3.956263e+17</td>\n",
              "    </tr>\n",
              "    <tr>\n",
              "      <th>std</th>\n",
              "      <td>9.749672</td>\n",
              "      <td>0.284249</td>\n",
              "      <td>2.237259e+00</td>\n",
              "      <td>1.220871e-02</td>\n",
              "      <td>4.886690e-02</td>\n",
              "      <td>0.495929</td>\n",
              "      <td>1.738912e+01</td>\n",
              "      <td>2.860899e-01</td>\n",
              "      <td>5.664017e+18</td>\n",
              "    </tr>\n",
              "    <tr>\n",
              "      <th>min</th>\n",
              "      <td>0.000000</td>\n",
              "      <td>0.000000</td>\n",
              "      <td>0.000000e+00</td>\n",
              "      <td>1.000000e-06</td>\n",
              "      <td>9.998021e-07</td>\n",
              "      <td>0.000000</td>\n",
              "      <td>0.000000e+00</td>\n",
              "      <td>0.000000e+00</td>\n",
              "      <td>-9.049388e+18</td>\n",
              "    </tr>\n",
              "    <tr>\n",
              "      <th>25%</th>\n",
              "      <td>0.000000</td>\n",
              "      <td>0.000000</td>\n",
              "      <td>0.000000e+00</td>\n",
              "      <td>1.063830e-02</td>\n",
              "      <td>1.256780e-02</td>\n",
              "      <td>0.000000</td>\n",
              "      <td>2.000000e+00</td>\n",
              "      <td>0.000000e+00</td>\n",
              "      <td>-4.593390e+18</td>\n",
              "    </tr>\n",
              "    <tr>\n",
              "      <th>50%</th>\n",
              "      <td>0.000000</td>\n",
              "      <td>0.000000</td>\n",
              "      <td>2.509947e-01</td>\n",
              "      <td>1.578868e-02</td>\n",
              "      <td>2.066189e-02</td>\n",
              "      <td>1.000000</td>\n",
              "      <td>6.000000e+00</td>\n",
              "      <td>0.000000e+00</td>\n",
              "      <td>-1.614083e+18</td>\n",
              "    </tr>\n",
              "    <tr>\n",
              "      <th>75%</th>\n",
              "      <td>11.642839</td>\n",
              "      <td>0.063633</td>\n",
              "      <td>3.423265e+00</td>\n",
              "      <td>2.043710e-02</td>\n",
              "      <td>3.760018e-02</td>\n",
              "      <td>1.000000</td>\n",
              "      <td>1.400000e+01</td>\n",
              "      <td>0.000000e+00</td>\n",
              "      <td>4.315422e+18</td>\n",
              "    </tr>\n",
              "    <tr>\n",
              "      <th>max</th>\n",
              "      <td>93.516720</td>\n",
              "      <td>7.301161</td>\n",
              "      <td>1.774189e+01</td>\n",
              "      <td>2.556893e-01</td>\n",
              "      <td>1.294088e+00</td>\n",
              "      <td>1.000000</td>\n",
              "      <td>1.340000e+03</td>\n",
              "      <td>1.000000e+00</td>\n",
              "      <td>9.204124e+18</td>\n",
              "    </tr>\n",
              "  </tbody>\n",
              "</table>\n",
              "</div>"
            ]
          },
          "metadata": {
            "tags": []
          },
          "execution_count": 6
        }
      ]
    },
    {
      "metadata": {
        "colab_type": "code",
        "id": "-03F32bhK3sM",
        "outputId": "de1356d3-7f18-4db9-e2fa-400cc2782fb8",
        "colab": {
          "base_uri": "https://localhost:8080/",
          "height": 204
        }
      },
      "cell_type": "code",
      "source": [
        "# Number of unique entries\n",
        "df.astype(object).describe(include='all').loc['unique', :]"
      ],
      "execution_count": 0,
      "outputs": [
        {
          "output_type": "execute_result",
          "data": {
            "text/plain": [
              "title_proximity_tfidf          225538\n",
              "description_proximity_tfidf    342918\n",
              "main_query_tfidf               517282\n",
              "query_jl_score                 181318\n",
              "query_title_score              343323\n",
              "city_match                          2\n",
              "job_age_days                      491\n",
              "apply                               2\n",
              "search_date_pacific                 7\n",
              "class_id                          157\n",
              "Name: unique, dtype: object"
            ]
          },
          "metadata": {
            "tags": []
          },
          "execution_count": 7
        }
      ]
    },
    {
      "metadata": {
        "colab_type": "code",
        "id": "jkXL6FOEIsVP",
        "outputId": "1fd059ba-6e2a-41ff-c9b0-888190287617",
        "colab": {
          "base_uri": "https://localhost:8080/",
          "height": 204
        }
      },
      "cell_type": "code",
      "source": [
        "# Number of Null Entries\n",
        "df.isnull().sum(axis=0)"
      ],
      "execution_count": 0,
      "outputs": [
        {
          "output_type": "execute_result",
          "data": {
            "text/plain": [
              "title_proximity_tfidf          252571\n",
              "description_proximity_tfidf    252571\n",
              "main_query_tfidf                    0\n",
              "query_jl_score                      0\n",
              "query_title_score                   0\n",
              "city_match                     256555\n",
              "job_age_days                        0\n",
              "apply                               0\n",
              "search_date_pacific                 0\n",
              "class_id                            0\n",
              "dtype: int64"
            ]
          },
          "metadata": {
            "tags": []
          },
          "execution_count": 8
        }
      ]
    },
    {
      "metadata": {
        "colab_type": "code",
        "id": "Hdpth4B3K3u9",
        "outputId": "1960176d-9950-4922-de9c-e755f2331827",
        "colab": {
          "base_uri": "https://localhost:8080/",
          "height": 229
        }
      },
      "cell_type": "code",
      "source": [
        "# Correlation Matrix\n",
        "df.corr().style.background_gradient()"
      ],
      "execution_count": 0,
      "outputs": [
        {
          "output_type": "execute_result",
          "data": {
            "text/plain": [
              "<pandas.io.formats.style.Styler at 0x249ccfa2630>"
            ],
            "text/html": [
              "<style  type=\"text/css\" >\n",
              "    #T_9269b9ac_3562_11e9_a1da_14b31f04b2cbrow0_col0 {\n",
              "            background-color:  #023858;\n",
              "            color:  #f1f1f1;\n",
              "        }    #T_9269b9ac_3562_11e9_a1da_14b31f04b2cbrow0_col1 {\n",
              "            background-color:  #eee8f3;\n",
              "            color:  #000000;\n",
              "        }    #T_9269b9ac_3562_11e9_a1da_14b31f04b2cbrow0_col2 {\n",
              "            background-color:  #0f76b3;\n",
              "            color:  #f1f1f1;\n",
              "        }    #T_9269b9ac_3562_11e9_a1da_14b31f04b2cbrow0_col3 {\n",
              "            background-color:  #d7d6e9;\n",
              "            color:  #000000;\n",
              "        }    #T_9269b9ac_3562_11e9_a1da_14b31f04b2cbrow0_col4 {\n",
              "            background-color:  #9ebad9;\n",
              "            color:  #000000;\n",
              "        }    #T_9269b9ac_3562_11e9_a1da_14b31f04b2cbrow0_col5 {\n",
              "            background-color:  #fdf5fa;\n",
              "            color:  #000000;\n",
              "        }    #T_9269b9ac_3562_11e9_a1da_14b31f04b2cbrow0_col6 {\n",
              "            background-color:  #f7f0f7;\n",
              "            color:  #000000;\n",
              "        }    #T_9269b9ac_3562_11e9_a1da_14b31f04b2cbrow0_col7 {\n",
              "            background-color:  #f6eff7;\n",
              "            color:  #000000;\n",
              "        }    #T_9269b9ac_3562_11e9_a1da_14b31f04b2cbrow0_col8 {\n",
              "            background-color:  #fcf4fa;\n",
              "            color:  #000000;\n",
              "        }    #T_9269b9ac_3562_11e9_a1da_14b31f04b2cbrow1_col0 {\n",
              "            background-color:  #e5e1ef;\n",
              "            color:  #000000;\n",
              "        }    #T_9269b9ac_3562_11e9_a1da_14b31f04b2cbrow1_col1 {\n",
              "            background-color:  #023858;\n",
              "            color:  #f1f1f1;\n",
              "        }    #T_9269b9ac_3562_11e9_a1da_14b31f04b2cbrow1_col2 {\n",
              "            background-color:  #f1ebf5;\n",
              "            color:  #000000;\n",
              "        }    #T_9269b9ac_3562_11e9_a1da_14b31f04b2cbrow1_col3 {\n",
              "            background-color:  #eee9f3;\n",
              "            color:  #000000;\n",
              "        }    #T_9269b9ac_3562_11e9_a1da_14b31f04b2cbrow1_col4 {\n",
              "            background-color:  #f8f1f8;\n",
              "            color:  #000000;\n",
              "        }    #T_9269b9ac_3562_11e9_a1da_14b31f04b2cbrow1_col5 {\n",
              "            background-color:  #f6eff7;\n",
              "            color:  #000000;\n",
              "        }    #T_9269b9ac_3562_11e9_a1da_14b31f04b2cbrow1_col6 {\n",
              "            background-color:  #fcf4fa;\n",
              "            color:  #000000;\n",
              "        }    #T_9269b9ac_3562_11e9_a1da_14b31f04b2cbrow1_col7 {\n",
              "            background-color:  #fef6fa;\n",
              "            color:  #000000;\n",
              "        }    #T_9269b9ac_3562_11e9_a1da_14b31f04b2cbrow1_col8 {\n",
              "            background-color:  #fef6fa;\n",
              "            color:  #000000;\n",
              "        }    #T_9269b9ac_3562_11e9_a1da_14b31f04b2cbrow2_col0 {\n",
              "            background-color:  #1077b4;\n",
              "            color:  #f1f1f1;\n",
              "        }    #T_9269b9ac_3562_11e9_a1da_14b31f04b2cbrow2_col1 {\n",
              "            background-color:  #faf3f9;\n",
              "            color:  #000000;\n",
              "        }    #T_9269b9ac_3562_11e9_a1da_14b31f04b2cbrow2_col2 {\n",
              "            background-color:  #023858;\n",
              "            color:  #f1f1f1;\n",
              "        }    #T_9269b9ac_3562_11e9_a1da_14b31f04b2cbrow2_col3 {\n",
              "            background-color:  #fbf3f9;\n",
              "            color:  #000000;\n",
              "        }    #T_9269b9ac_3562_11e9_a1da_14b31f04b2cbrow2_col4 {\n",
              "            background-color:  #d2d3e7;\n",
              "            color:  #000000;\n",
              "        }    #T_9269b9ac_3562_11e9_a1da_14b31f04b2cbrow2_col5 {\n",
              "            background-color:  #fff7fb;\n",
              "            color:  #000000;\n",
              "        }    #T_9269b9ac_3562_11e9_a1da_14b31f04b2cbrow2_col6 {\n",
              "            background-color:  #f0eaf4;\n",
              "            color:  #000000;\n",
              "        }    #T_9269b9ac_3562_11e9_a1da_14b31f04b2cbrow2_col7 {\n",
              "            background-color:  #f8f1f8;\n",
              "            color:  #000000;\n",
              "        }    #T_9269b9ac_3562_11e9_a1da_14b31f04b2cbrow2_col8 {\n",
              "            background-color:  #fcf4fa;\n",
              "            color:  #000000;\n",
              "        }    #T_9269b9ac_3562_11e9_a1da_14b31f04b2cbrow3_col0 {\n",
              "            background-color:  #d0d1e6;\n",
              "            color:  #000000;\n",
              "        }    #T_9269b9ac_3562_11e9_a1da_14b31f04b2cbrow3_col1 {\n",
              "            background-color:  #f0eaf4;\n",
              "            color:  #000000;\n",
              "        }    #T_9269b9ac_3562_11e9_a1da_14b31f04b2cbrow3_col2 {\n",
              "            background-color:  #f3edf5;\n",
              "            color:  #000000;\n",
              "        }    #T_9269b9ac_3562_11e9_a1da_14b31f04b2cbrow3_col3 {\n",
              "            background-color:  #023858;\n",
              "            color:  #f1f1f1;\n",
              "        }    #T_9269b9ac_3562_11e9_a1da_14b31f04b2cbrow3_col4 {\n",
              "            background-color:  #97b7d7;\n",
              "            color:  #000000;\n",
              "        }    #T_9269b9ac_3562_11e9_a1da_14b31f04b2cbrow3_col5 {\n",
              "            background-color:  #f7f0f7;\n",
              "            color:  #000000;\n",
              "        }    #T_9269b9ac_3562_11e9_a1da_14b31f04b2cbrow3_col6 {\n",
              "            background-color:  #fbf3f9;\n",
              "            color:  #000000;\n",
              "        }    #T_9269b9ac_3562_11e9_a1da_14b31f04b2cbrow3_col7 {\n",
              "            background-color:  #f5eef6;\n",
              "            color:  #000000;\n",
              "        }    #T_9269b9ac_3562_11e9_a1da_14b31f04b2cbrow3_col8 {\n",
              "            background-color:  #f2ecf5;\n",
              "            color:  #000000;\n",
              "        }    #T_9269b9ac_3562_11e9_a1da_14b31f04b2cbrow4_col0 {\n",
              "            background-color:  #99b8d8;\n",
              "            color:  #000000;\n",
              "        }    #T_9269b9ac_3562_11e9_a1da_14b31f04b2cbrow4_col1 {\n",
              "            background-color:  #fdf5fa;\n",
              "            color:  #000000;\n",
              "        }    #T_9269b9ac_3562_11e9_a1da_14b31f04b2cbrow4_col2 {\n",
              "            background-color:  #cacee5;\n",
              "            color:  #000000;\n",
              "        }    #T_9269b9ac_3562_11e9_a1da_14b31f04b2cbrow4_col3 {\n",
              "            background-color:  #9ebad9;\n",
              "            color:  #000000;\n",
              "        }    #T_9269b9ac_3562_11e9_a1da_14b31f04b2cbrow4_col4 {\n",
              "            background-color:  #023858;\n",
              "            color:  #f1f1f1;\n",
              "        }    #T_9269b9ac_3562_11e9_a1da_14b31f04b2cbrow4_col5 {\n",
              "            background-color:  #faf3f9;\n",
              "            color:  #000000;\n",
              "        }    #T_9269b9ac_3562_11e9_a1da_14b31f04b2cbrow4_col6 {\n",
              "            background-color:  #fbf3f9;\n",
              "            color:  #000000;\n",
              "        }    #T_9269b9ac_3562_11e9_a1da_14b31f04b2cbrow4_col7 {\n",
              "            background-color:  #f4edf6;\n",
              "            color:  #000000;\n",
              "        }    #T_9269b9ac_3562_11e9_a1da_14b31f04b2cbrow4_col8 {\n",
              "            background-color:  #f5eff6;\n",
              "            color:  #000000;\n",
              "        }    #T_9269b9ac_3562_11e9_a1da_14b31f04b2cbrow5_col0 {\n",
              "            background-color:  #fff7fb;\n",
              "            color:  #000000;\n",
              "        }    #T_9269b9ac_3562_11e9_a1da_14b31f04b2cbrow5_col1 {\n",
              "            background-color:  #fff7fb;\n",
              "            color:  #000000;\n",
              "        }    #T_9269b9ac_3562_11e9_a1da_14b31f04b2cbrow5_col2 {\n",
              "            background-color:  #fff7fb;\n",
              "            color:  #000000;\n",
              "        }    #T_9269b9ac_3562_11e9_a1da_14b31f04b2cbrow5_col3 {\n",
              "            background-color:  #fff7fb;\n",
              "            color:  #000000;\n",
              "        }    #T_9269b9ac_3562_11e9_a1da_14b31f04b2cbrow5_col4 {\n",
              "            background-color:  #fff7fb;\n",
              "            color:  #000000;\n",
              "        }    #T_9269b9ac_3562_11e9_a1da_14b31f04b2cbrow5_col5 {\n",
              "            background-color:  #023858;\n",
              "            color:  #f1f1f1;\n",
              "        }    #T_9269b9ac_3562_11e9_a1da_14b31f04b2cbrow5_col6 {\n",
              "            background-color:  #fef6fa;\n",
              "            color:  #000000;\n",
              "        }    #T_9269b9ac_3562_11e9_a1da_14b31f04b2cbrow5_col7 {\n",
              "            background-color:  #fdf5fa;\n",
              "            color:  #000000;\n",
              "        }    #T_9269b9ac_3562_11e9_a1da_14b31f04b2cbrow5_col8 {\n",
              "            background-color:  #fff7fb;\n",
              "            color:  #000000;\n",
              "        }    #T_9269b9ac_3562_11e9_a1da_14b31f04b2cbrow6_col0 {\n",
              "            background-color:  #f0eaf4;\n",
              "            color:  #000000;\n",
              "        }    #T_9269b9ac_3562_11e9_a1da_14b31f04b2cbrow6_col1 {\n",
              "            background-color:  #fcf4fa;\n",
              "            color:  #000000;\n",
              "        }    #T_9269b9ac_3562_11e9_a1da_14b31f04b2cbrow6_col2 {\n",
              "            background-color:  #e6e2ef;\n",
              "            color:  #000000;\n",
              "        }    #T_9269b9ac_3562_11e9_a1da_14b31f04b2cbrow6_col3 {\n",
              "            background-color:  #faf3f9;\n",
              "            color:  #000000;\n",
              "        }    #T_9269b9ac_3562_11e9_a1da_14b31f04b2cbrow6_col4 {\n",
              "            background-color:  #f7f0f7;\n",
              "            color:  #000000;\n",
              "        }    #T_9269b9ac_3562_11e9_a1da_14b31f04b2cbrow6_col5 {\n",
              "            background-color:  #f4eef6;\n",
              "            color:  #000000;\n",
              "        }    #T_9269b9ac_3562_11e9_a1da_14b31f04b2cbrow6_col6 {\n",
              "            background-color:  #023858;\n",
              "            color:  #f1f1f1;\n",
              "        }    #T_9269b9ac_3562_11e9_a1da_14b31f04b2cbrow6_col7 {\n",
              "            background-color:  #fff7fb;\n",
              "            color:  #000000;\n",
              "        }    #T_9269b9ac_3562_11e9_a1da_14b31f04b2cbrow6_col8 {\n",
              "            background-color:  #fef6fa;\n",
              "            color:  #000000;\n",
              "        }    #T_9269b9ac_3562_11e9_a1da_14b31f04b2cbrow7_col0 {\n",
              "            background-color:  #f0eaf4;\n",
              "            color:  #000000;\n",
              "        }    #T_9269b9ac_3562_11e9_a1da_14b31f04b2cbrow7_col1 {\n",
              "            background-color:  #fef6fb;\n",
              "            color:  #000000;\n",
              "        }    #T_9269b9ac_3562_11e9_a1da_14b31f04b2cbrow7_col2 {\n",
              "            background-color:  #efe9f3;\n",
              "            color:  #000000;\n",
              "        }    #T_9269b9ac_3562_11e9_a1da_14b31f04b2cbrow7_col3 {\n",
              "            background-color:  #f4edf6;\n",
              "            color:  #000000;\n",
              "        }    #T_9269b9ac_3562_11e9_a1da_14b31f04b2cbrow7_col4 {\n",
              "            background-color:  #f0eaf4;\n",
              "            color:  #000000;\n",
              "        }    #T_9269b9ac_3562_11e9_a1da_14b31f04b2cbrow7_col5 {\n",
              "            background-color:  #f4edf6;\n",
              "            color:  #000000;\n",
              "        }    #T_9269b9ac_3562_11e9_a1da_14b31f04b2cbrow7_col6 {\n",
              "            background-color:  #fff7fb;\n",
              "            color:  #000000;\n",
              "        }    #T_9269b9ac_3562_11e9_a1da_14b31f04b2cbrow7_col7 {\n",
              "            background-color:  #023858;\n",
              "            color:  #f1f1f1;\n",
              "        }    #T_9269b9ac_3562_11e9_a1da_14b31f04b2cbrow7_col8 {\n",
              "            background-color:  #fdf5fa;\n",
              "            color:  #000000;\n",
              "        }    #T_9269b9ac_3562_11e9_a1da_14b31f04b2cbrow8_col0 {\n",
              "            background-color:  #f4eef6;\n",
              "            color:  #000000;\n",
              "        }    #T_9269b9ac_3562_11e9_a1da_14b31f04b2cbrow8_col1 {\n",
              "            background-color:  #fdf5fa;\n",
              "            color:  #000000;\n",
              "        }    #T_9269b9ac_3562_11e9_a1da_14b31f04b2cbrow8_col2 {\n",
              "            background-color:  #f2ecf5;\n",
              "            color:  #000000;\n",
              "        }    #T_9269b9ac_3562_11e9_a1da_14b31f04b2cbrow8_col3 {\n",
              "            background-color:  #f1ebf4;\n",
              "            color:  #000000;\n",
              "        }    #T_9269b9ac_3562_11e9_a1da_14b31f04b2cbrow8_col4 {\n",
              "            background-color:  #f0eaf4;\n",
              "            color:  #000000;\n",
              "        }    #T_9269b9ac_3562_11e9_a1da_14b31f04b2cbrow8_col5 {\n",
              "            background-color:  #f5eef6;\n",
              "            color:  #000000;\n",
              "        }    #T_9269b9ac_3562_11e9_a1da_14b31f04b2cbrow8_col6 {\n",
              "            background-color:  #fdf5fa;\n",
              "            color:  #000000;\n",
              "        }    #T_9269b9ac_3562_11e9_a1da_14b31f04b2cbrow8_col7 {\n",
              "            background-color:  #fcf4fa;\n",
              "            color:  #000000;\n",
              "        }    #T_9269b9ac_3562_11e9_a1da_14b31f04b2cbrow8_col8 {\n",
              "            background-color:  #023858;\n",
              "            color:  #f1f1f1;\n",
              "        }</style><table id=\"T_9269b9ac_3562_11e9_a1da_14b31f04b2cb\" ><thead>    <tr>        <th class=\"blank level0\" ></th>        <th class=\"col_heading level0 col0\" >title_proximity_tfidf</th>        <th class=\"col_heading level0 col1\" >description_proximity_tfidf</th>        <th class=\"col_heading level0 col2\" >main_query_tfidf</th>        <th class=\"col_heading level0 col3\" >query_jl_score</th>        <th class=\"col_heading level0 col4\" >query_title_score</th>        <th class=\"col_heading level0 col5\" >city_match</th>        <th class=\"col_heading level0 col6\" >job_age_days</th>        <th class=\"col_heading level0 col7\" >apply</th>        <th class=\"col_heading level0 col8\" >class_id</th>    </tr></thead><tbody>\n",
              "                <tr>\n",
              "                        <th id=\"T_9269b9ac_3562_11e9_a1da_14b31f04b2cblevel0_row0\" class=\"row_heading level0 row0\" >title_proximity_tfidf</th>\n",
              "                        <td id=\"T_9269b9ac_3562_11e9_a1da_14b31f04b2cbrow0_col0\" class=\"data row0 col0\" >1</td>\n",
              "                        <td id=\"T_9269b9ac_3562_11e9_a1da_14b31f04b2cbrow0_col1\" class=\"data row0 col1\" >0.107818</td>\n",
              "                        <td id=\"T_9269b9ac_3562_11e9_a1da_14b31f04b2cbrow0_col2\" class=\"data row0 col2\" >0.704579</td>\n",
              "                        <td id=\"T_9269b9ac_3562_11e9_a1da_14b31f04b2cbrow0_col3\" class=\"data row0 col3\" >0.208132</td>\n",
              "                        <td id=\"T_9269b9ac_3562_11e9_a1da_14b31f04b2cbrow0_col4\" class=\"data row0 col4\" >0.371528</td>\n",
              "                        <td id=\"T_9269b9ac_3562_11e9_a1da_14b31f04b2cbrow0_col5\" class=\"data row0 col5\" >-0.0606927</td>\n",
              "                        <td id=\"T_9269b9ac_3562_11e9_a1da_14b31f04b2cbrow0_col6\" class=\"data row0 col6\" >0.0431387</td>\n",
              "                        <td id=\"T_9269b9ac_3562_11e9_a1da_14b31f04b2cbrow0_col7\" class=\"data row0 col7\" >0.0482417</td>\n",
              "                        <td id=\"T_9269b9ac_3562_11e9_a1da_14b31f04b2cbrow0_col8\" class=\"data row0 col8\" >0.01719</td>\n",
              "            </tr>\n",
              "            <tr>\n",
              "                        <th id=\"T_9269b9ac_3562_11e9_a1da_14b31f04b2cblevel0_row1\" class=\"row_heading level0 row1\" >description_proximity_tfidf</th>\n",
              "                        <td id=\"T_9269b9ac_3562_11e9_a1da_14b31f04b2cbrow1_col0\" class=\"data row1 col0\" >0.107818</td>\n",
              "                        <td id=\"T_9269b9ac_3562_11e9_a1da_14b31f04b2cbrow1_col1\" class=\"data row1 col1\" >1</td>\n",
              "                        <td id=\"T_9269b9ac_3562_11e9_a1da_14b31f04b2cbrow1_col2\" class=\"data row1 col2\" >0.0226645</td>\n",
              "                        <td id=\"T_9269b9ac_3562_11e9_a1da_14b31f04b2cbrow1_col3\" class=\"data row1 col3\" >0.0959929</td>\n",
              "                        <td id=\"T_9269b9ac_3562_11e9_a1da_14b31f04b2cbrow1_col4\" class=\"data row1 col4\" >0.00358764</td>\n",
              "                        <td id=\"T_9269b9ac_3562_11e9_a1da_14b31f04b2cbrow1_col5\" class=\"data row1 col5\" >-0.0102031</td>\n",
              "                        <td id=\"T_9269b9ac_3562_11e9_a1da_14b31f04b2cbrow1_col6\" class=\"data row1 col6\" >0.0114363</td>\n",
              "                        <td id=\"T_9269b9ac_3562_11e9_a1da_14b31f04b2cbrow1_col7\" class=\"data row1 col7\" >-0.00329066</td>\n",
              "                        <td id=\"T_9269b9ac_3562_11e9_a1da_14b31f04b2cbrow1_col8\" class=\"data row1 col8\" >0.00566131</td>\n",
              "            </tr>\n",
              "            <tr>\n",
              "                        <th id=\"T_9269b9ac_3562_11e9_a1da_14b31f04b2cblevel0_row2\" class=\"row_heading level0 row2\" >main_query_tfidf</th>\n",
              "                        <td id=\"T_9269b9ac_3562_11e9_a1da_14b31f04b2cbrow2_col0\" class=\"data row2 col0\" >0.704579</td>\n",
              "                        <td id=\"T_9269b9ac_3562_11e9_a1da_14b31f04b2cbrow2_col1\" class=\"data row2 col1\" >0.0226645</td>\n",
              "                        <td id=\"T_9269b9ac_3562_11e9_a1da_14b31f04b2cbrow2_col2\" class=\"data row2 col2\" >1</td>\n",
              "                        <td id=\"T_9269b9ac_3562_11e9_a1da_14b31f04b2cbrow2_col3\" class=\"data row2 col3\" >0.0107382</td>\n",
              "                        <td id=\"T_9269b9ac_3562_11e9_a1da_14b31f04b2cbrow2_col4\" class=\"data row2 col4\" >0.209315</td>\n",
              "                        <td id=\"T_9269b9ac_3562_11e9_a1da_14b31f04b2cbrow2_col5\" class=\"data row2 col5\" >-0.0773882</td>\n",
              "                        <td id=\"T_9269b9ac_3562_11e9_a1da_14b31f04b2cbrow2_col6\" class=\"data row2 col6\" >0.0875467</td>\n",
              "                        <td id=\"T_9269b9ac_3562_11e9_a1da_14b31f04b2cbrow2_col7\" class=\"data row2 col7\" >0.0390501</td>\n",
              "                        <td id=\"T_9269b9ac_3562_11e9_a1da_14b31f04b2cbrow2_col8\" class=\"data row2 col8\" >0.0185585</td>\n",
              "            </tr>\n",
              "            <tr>\n",
              "                        <th id=\"T_9269b9ac_3562_11e9_a1da_14b31f04b2cblevel0_row3\" class=\"row_heading level0 row3\" >query_jl_score</th>\n",
              "                        <td id=\"T_9269b9ac_3562_11e9_a1da_14b31f04b2cbrow3_col0\" class=\"data row3 col0\" >0.208132</td>\n",
              "                        <td id=\"T_9269b9ac_3562_11e9_a1da_14b31f04b2cbrow3_col1\" class=\"data row3 col1\" >0.0959929</td>\n",
              "                        <td id=\"T_9269b9ac_3562_11e9_a1da_14b31f04b2cbrow3_col2\" class=\"data row3 col2\" >0.0107382</td>\n",
              "                        <td id=\"T_9269b9ac_3562_11e9_a1da_14b31f04b2cbrow3_col3\" class=\"data row3 col3\" >1</td>\n",
              "                        <td id=\"T_9269b9ac_3562_11e9_a1da_14b31f04b2cbrow3_col4\" class=\"data row3 col4\" >0.387003</td>\n",
              "                        <td id=\"T_9269b9ac_3562_11e9_a1da_14b31f04b2cbrow3_col5\" class=\"data row3 col5\" >-0.0181372</td>\n",
              "                        <td id=\"T_9269b9ac_3562_11e9_a1da_14b31f04b2cbrow3_col6\" class=\"data row3 col6\" >0.0171382</td>\n",
              "                        <td id=\"T_9269b9ac_3562_11e9_a1da_14b31f04b2cbrow3_col7\" class=\"data row3 col7\" >0.0574431</td>\n",
              "                        <td id=\"T_9269b9ac_3562_11e9_a1da_14b31f04b2cbrow3_col8\" class=\"data row3 col8\" >0.0778891</td>\n",
              "            </tr>\n",
              "            <tr>\n",
              "                        <th id=\"T_9269b9ac_3562_11e9_a1da_14b31f04b2cblevel0_row4\" class=\"row_heading level0 row4\" >query_title_score</th>\n",
              "                        <td id=\"T_9269b9ac_3562_11e9_a1da_14b31f04b2cbrow4_col0\" class=\"data row4 col0\" >0.371528</td>\n",
              "                        <td id=\"T_9269b9ac_3562_11e9_a1da_14b31f04b2cbrow4_col1\" class=\"data row4 col1\" >0.00358764</td>\n",
              "                        <td id=\"T_9269b9ac_3562_11e9_a1da_14b31f04b2cbrow4_col2\" class=\"data row4 col2\" >0.209315</td>\n",
              "                        <td id=\"T_9269b9ac_3562_11e9_a1da_14b31f04b2cbrow4_col3\" class=\"data row4 col3\" >0.387003</td>\n",
              "                        <td id=\"T_9269b9ac_3562_11e9_a1da_14b31f04b2cbrow4_col4\" class=\"data row4 col4\" >1</td>\n",
              "                        <td id=\"T_9269b9ac_3562_11e9_a1da_14b31f04b2cbrow4_col5\" class=\"data row4 col5\" >-0.0422243</td>\n",
              "                        <td id=\"T_9269b9ac_3562_11e9_a1da_14b31f04b2cbrow4_col6\" class=\"data row4 col6\" >0.0169877</td>\n",
              "                        <td id=\"T_9269b9ac_3562_11e9_a1da_14b31f04b2cbrow4_col7\" class=\"data row4 col7\" >0.0638322</td>\n",
              "                        <td id=\"T_9269b9ac_3562_11e9_a1da_14b31f04b2cbrow4_col8\" class=\"data row4 col8\" >0.0618706</td>\n",
              "            </tr>\n",
              "            <tr>\n",
              "                        <th id=\"T_9269b9ac_3562_11e9_a1da_14b31f04b2cblevel0_row5\" class=\"row_heading level0 row5\" >city_match</th>\n",
              "                        <td id=\"T_9269b9ac_3562_11e9_a1da_14b31f04b2cbrow5_col0\" class=\"data row5 col0\" >-0.0606927</td>\n",
              "                        <td id=\"T_9269b9ac_3562_11e9_a1da_14b31f04b2cbrow5_col1\" class=\"data row5 col1\" >-0.0102031</td>\n",
              "                        <td id=\"T_9269b9ac_3562_11e9_a1da_14b31f04b2cbrow5_col2\" class=\"data row5 col2\" >-0.0773882</td>\n",
              "                        <td id=\"T_9269b9ac_3562_11e9_a1da_14b31f04b2cbrow5_col3\" class=\"data row5 col3\" >-0.0181372</td>\n",
              "                        <td id=\"T_9269b9ac_3562_11e9_a1da_14b31f04b2cbrow5_col4\" class=\"data row5 col4\" >-0.0422243</td>\n",
              "                        <td id=\"T_9269b9ac_3562_11e9_a1da_14b31f04b2cbrow5_col5\" class=\"data row5 col5\" >1</td>\n",
              "                        <td id=\"T_9269b9ac_3562_11e9_a1da_14b31f04b2cbrow5_col6\" class=\"data row5 col6\" >-0.00061378</td>\n",
              "                        <td id=\"T_9269b9ac_3562_11e9_a1da_14b31f04b2cbrow5_col7\" class=\"data row5 col7\" >0.00308262</td>\n",
              "                        <td id=\"T_9269b9ac_3562_11e9_a1da_14b31f04b2cbrow5_col8\" class=\"data row5 col8\" >-0.00458481</td>\n",
              "            </tr>\n",
              "            <tr>\n",
              "                        <th id=\"T_9269b9ac_3562_11e9_a1da_14b31f04b2cblevel0_row6\" class=\"row_heading level0 row6\" >job_age_days</th>\n",
              "                        <td id=\"T_9269b9ac_3562_11e9_a1da_14b31f04b2cbrow6_col0\" class=\"data row6 col0\" >0.0431387</td>\n",
              "                        <td id=\"T_9269b9ac_3562_11e9_a1da_14b31f04b2cbrow6_col1\" class=\"data row6 col1\" >0.0114363</td>\n",
              "                        <td id=\"T_9269b9ac_3562_11e9_a1da_14b31f04b2cbrow6_col2\" class=\"data row6 col2\" >0.0875467</td>\n",
              "                        <td id=\"T_9269b9ac_3562_11e9_a1da_14b31f04b2cbrow6_col3\" class=\"data row6 col3\" >0.0171382</td>\n",
              "                        <td id=\"T_9269b9ac_3562_11e9_a1da_14b31f04b2cbrow6_col4\" class=\"data row6 col4\" >0.0169877</td>\n",
              "                        <td id=\"T_9269b9ac_3562_11e9_a1da_14b31f04b2cbrow6_col5\" class=\"data row6 col5\" >-0.00061378</td>\n",
              "                        <td id=\"T_9269b9ac_3562_11e9_a1da_14b31f04b2cbrow6_col6\" class=\"data row6 col6\" >1</td>\n",
              "                        <td id=\"T_9269b9ac_3562_11e9_a1da_14b31f04b2cbrow6_col7\" class=\"data row6 col7\" >-0.0118286</td>\n",
              "                        <td id=\"T_9269b9ac_3562_11e9_a1da_14b31f04b2cbrow6_col8\" class=\"data row6 col8\" >0.00395271</td>\n",
              "            </tr>\n",
              "            <tr>\n",
              "                        <th id=\"T_9269b9ac_3562_11e9_a1da_14b31f04b2cblevel0_row7\" class=\"row_heading level0 row7\" >apply</th>\n",
              "                        <td id=\"T_9269b9ac_3562_11e9_a1da_14b31f04b2cbrow7_col0\" class=\"data row7 col0\" >0.0482417</td>\n",
              "                        <td id=\"T_9269b9ac_3562_11e9_a1da_14b31f04b2cbrow7_col1\" class=\"data row7 col1\" >-0.00329066</td>\n",
              "                        <td id=\"T_9269b9ac_3562_11e9_a1da_14b31f04b2cbrow7_col2\" class=\"data row7 col2\" >0.0390501</td>\n",
              "                        <td id=\"T_9269b9ac_3562_11e9_a1da_14b31f04b2cbrow7_col3\" class=\"data row7 col3\" >0.0574431</td>\n",
              "                        <td id=\"T_9269b9ac_3562_11e9_a1da_14b31f04b2cbrow7_col4\" class=\"data row7 col4\" >0.0638322</td>\n",
              "                        <td id=\"T_9269b9ac_3562_11e9_a1da_14b31f04b2cbrow7_col5\" class=\"data row7 col5\" >0.00308262</td>\n",
              "                        <td id=\"T_9269b9ac_3562_11e9_a1da_14b31f04b2cbrow7_col6\" class=\"data row7 col6\" >-0.0118286</td>\n",
              "                        <td id=\"T_9269b9ac_3562_11e9_a1da_14b31f04b2cbrow7_col7\" class=\"data row7 col7\" >1</td>\n",
              "                        <td id=\"T_9269b9ac_3562_11e9_a1da_14b31f04b2cbrow7_col8\" class=\"data row7 col8\" >0.0116747</td>\n",
              "            </tr>\n",
              "            <tr>\n",
              "                        <th id=\"T_9269b9ac_3562_11e9_a1da_14b31f04b2cblevel0_row8\" class=\"row_heading level0 row8\" >class_id</th>\n",
              "                        <td id=\"T_9269b9ac_3562_11e9_a1da_14b31f04b2cbrow8_col0\" class=\"data row8 col0\" >0.01719</td>\n",
              "                        <td id=\"T_9269b9ac_3562_11e9_a1da_14b31f04b2cbrow8_col1\" class=\"data row8 col1\" >0.00566131</td>\n",
              "                        <td id=\"T_9269b9ac_3562_11e9_a1da_14b31f04b2cbrow8_col2\" class=\"data row8 col2\" >0.0185585</td>\n",
              "                        <td id=\"T_9269b9ac_3562_11e9_a1da_14b31f04b2cbrow8_col3\" class=\"data row8 col3\" >0.0778891</td>\n",
              "                        <td id=\"T_9269b9ac_3562_11e9_a1da_14b31f04b2cbrow8_col4\" class=\"data row8 col4\" >0.0618706</td>\n",
              "                        <td id=\"T_9269b9ac_3562_11e9_a1da_14b31f04b2cbrow8_col5\" class=\"data row8 col5\" >-0.00458481</td>\n",
              "                        <td id=\"T_9269b9ac_3562_11e9_a1da_14b31f04b2cbrow8_col6\" class=\"data row8 col6\" >0.00395271</td>\n",
              "                        <td id=\"T_9269b9ac_3562_11e9_a1da_14b31f04b2cbrow8_col7\" class=\"data row8 col7\" >0.0116747</td>\n",
              "                        <td id=\"T_9269b9ac_3562_11e9_a1da_14b31f04b2cbrow8_col8\" class=\"data row8 col8\" >1</td>\n",
              "            </tr>\n",
              "    </tbody></table>"
            ]
          },
          "metadata": {
            "tags": []
          },
          "execution_count": 9
        }
      ]
    },
    {
      "metadata": {
        "id": "mLXEQ_VMpr0u",
        "colab_type": "code",
        "outputId": "13a6fa0c-0a71-4e46-af41-2ac58f479210",
        "colab": {
          "base_uri": "https://localhost:8080/",
          "height": 1321
        }
      },
      "cell_type": "code",
      "source": [
        "df.hist(figsize=(20,20))"
      ],
      "execution_count": 0,
      "outputs": [
        {
          "output_type": "execute_result",
          "data": {
            "text/plain": [
              "array([[<matplotlib.axes._subplots.AxesSubplot object at 0x00000249CB699128>,\n",
              "        <matplotlib.axes._subplots.AxesSubplot object at 0x00000249CB716E10>,\n",
              "        <matplotlib.axes._subplots.AxesSubplot object at 0x00000249CB7433C8>],\n",
              "       [<matplotlib.axes._subplots.AxesSubplot object at 0x00000249CB765908>,\n",
              "        <matplotlib.axes._subplots.AxesSubplot object at 0x00000249CB78BE80>,\n",
              "        <matplotlib.axes._subplots.AxesSubplot object at 0x00000249CB7B6438>],\n",
              "       [<matplotlib.axes._subplots.AxesSubplot object at 0x00000249CB7DC9B0>,\n",
              "        <matplotlib.axes._subplots.AxesSubplot object at 0x00000249CB804F60>,\n",
              "        <matplotlib.axes._subplots.AxesSubplot object at 0x00000249CB804F98>]],\n",
              "      dtype=object)"
            ]
          },
          "metadata": {
            "tags": []
          },
          "execution_count": 10
        },
        {
          "output_type": "display_data",
          "data": {
            "text/plain": [
              "<Figure size 1440x1440 with 9 Axes>"
            ],
            "image/png": "[encoded data removed]"
          },
          "metadata": {
            "tags": [],
            "needs_background": "light"
          }
        }
      ]
    },
    {
      "metadata": {
        "id": "gjZp5GCFpr00",
        "colab_type": "code",
        "colab": {}
      },
      "cell_type": "code",
      "source": [
        ""
      ],
      "execution_count": 0,
      "outputs": []
    },
    {
      "metadata": {
        "id": "avzys-1vpr03",
        "colab_type": "code",
        "outputId": "e6d9eeac-dcf9-4bfa-9d35-28553ba6f71f",
        "colab": {
          "base_uri": "https://localhost:8080/",
          "height": 102
        }
      },
      "cell_type": "code",
      "source": [
        "print(df['apply'].value_counts())\n",
        "print(df['apply'].value_counts()[0] / len(df) * 100)\n",
        "print(df['apply'].value_counts()[1] / len(df) * 100)"
      ],
      "execution_count": 0,
      "outputs": [
        {
          "output_type": "stream",
          "text": [
            "0    1092887\n",
            "1     108003\n",
            "Name: apply, dtype: int64\n",
            "91.00642023832324\n",
            "8.993579761676756\n"
          ],
          "name": "stdout"
        }
      ]
    },
    {
      "metadata": {
        "id": "VwxCMX4ppr07",
        "colab_type": "code",
        "colab": {}
      },
      "cell_type": "code",
      "source": [
        "df.fillna(0, inplace=True)\n",
        "df['class_id'] = df['class_id'].astype('category').cat.codes"
      ],
      "execution_count": 0,
      "outputs": []
    },
    {
      "metadata": {
        "colab_type": "code",
        "id": "PtnbSobGK3yA",
        "colab": {}
      },
      "cell_type": "code",
      "source": [
        "from sklearn.preprocessing import StandardScaler\n",
        "# Preprocessing\n",
        "def preprocess(to_remove, normalize=False):\n",
        "    #Normalization\n",
        "    df[not_cat_cols] = (df[not_cat_cols] - df[not_cat_cols].mean()) / (df[not_cat_cols].max() - df[not_cat_cols].min())\n",
        "    \n",
        "    df_train = df[df.search_date_pacific != '2018-01-27']\n",
        "    df_test = df[df.search_date_pacific == '2018-01-27']\n",
        "    \n",
        "    global X_train\n",
        "    X_train = df_train.drop(columns=to_remove).values\n",
        "    global y_train \n",
        "    y_train  = df_train['apply'].values\n",
        "    global X_test \n",
        "    X_test = df_test.drop(columns=to_remove).values\n",
        "    global y_test \n",
        "    y_test = df_test['apply'].values\n",
        "    \n",
        "    #Normalization\n",
        "#     if normalize:    \n",
        "#         scaler = StandardScaler()\n",
        "#         scaler.fit(X_train)\n",
        "#         X_train = scaler.transform(X_train)\n",
        "#         X_test = scaler.transform(X_test)"
      ],
      "execution_count": 0,
      "outputs": []
    },
    {
      "metadata": {
        "colab_type": "code",
        "id": "u1bgS9EBZTvx",
        "colab": {}
      },
      "cell_type": "code",
      "source": [
        "def classify(clf):\n",
        "    clf.fit(X_train, y_train)\n",
        "    y_pred = clf.predict_proba(X_test)\n",
        "    print(clf)\n",
        "    print(\"ROC AUC:\", roc_auc_score(y_test, y_pred[:,1]))\n",
        "    y_pred = clf.predict(X_test)\n",
        "    print(classification_report(y_test, y_pred))\n",
        "    print(\"Detailed confusion matrix:\")\n",
        "    print(confusion_matrix(y_test, y_pred))\n",
        "    print(\"Accuracy Score:\", accuracy_score(y_test, y_pred))\n",
        "    \n",
        "    \n",
        "from imblearn.over_sampling import SMOTE\n",
        "\n",
        "def classify_with_smote(clf):\n",
        "    smote = SMOTE(random_state=0, n_jobs=-1, sampling_strategy=4/6)\n",
        "    global X_train, y_train \n",
        "    X_train, y_train = smote.fit_resample(X_train, y_train)\n",
        "    classify(clf)"
      ],
      "execution_count": 0,
      "outputs": []
    },
    {
      "metadata": {
        "colab_type": "code",
        "id": "UoK60GcGZT61",
        "colab": {}
      },
      "cell_type": "code",
      "source": [
        "to_remove = ['apply', 'search_date_pacific', 'class_id']\n",
        "preprocess(to_remove)"
      ],
      "execution_count": 0,
      "outputs": []
    },
    {
      "metadata": {
        "id": "ply2Gwi-DNZX",
        "colab_type": "code",
        "outputId": "6aa4d57a-e73c-4dd0-fdfd-045fe4fd993b",
        "colab": {
          "base_uri": "https://localhost:8080/",
          "height": 391
        }
      },
      "cell_type": "code",
      "source": [
        "from sklearn.linear_model import LogisticRegression\n",
        "\n",
        "clf = LogisticRegression(random_state=0, class_weight='balanced', n_jobs=-1)\n",
        "classify(clf)"
      ],
      "execution_count": 0,
      "outputs": [
        {
          "output_type": "stream",
          "text": [
            "c:\\python36\\lib\\site-packages\\sklearn\\linear_model\\logistic.py:433: FutureWarning: Default solver will be changed to 'lbfgs' in 0.22. Specify a solver to silence this warning.\n",
            "  FutureWarning)\n",
            "c:\\python36\\lib\\site-packages\\sklearn\\linear_model\\logistic.py:1300: UserWarning: 'n_jobs' > 1 does not have any effect when 'solver' is set to 'liblinear'. Got 'n_jobs' = 4.\n",
            "  \" = {}.\".format(effective_n_jobs(self.n_jobs)))\n"
          ],
          "name": "stderr"
        },
        {
          "output_type": "stream",
          "text": [
            "LogisticRegression(C=1.0, class_weight='balanced', dual=False,\n",
            "          fit_intercept=True, intercept_scaling=1, max_iter=100,\n",
            "          multi_class='warn', n_jobs=-1, penalty='l2', random_state=0,\n",
            "          solver='warn', tol=0.0001, verbose=0, warm_start=False)\n",
            "ROC AUC: 0.5883860726501579\n",
            "              precision    recall  f1-score   support\n",
            "\n",
            "           0       0.93      0.66      0.77    105940\n",
            "           1       0.12      0.47      0.19     10586\n",
            "\n",
            "   micro avg       0.64      0.64      0.64    116526\n",
            "   macro avg       0.52      0.56      0.48    116526\n",
            "weighted avg       0.85      0.64      0.72    116526\n",
            "\n",
            "Detailed confusion matrix:\n",
            "[[69921 36019]\n",
            " [ 5658  4928]]\n",
            "Accuracy Score: 0.6423373324408287\n"
          ],
          "name": "stdout"
        }
      ]
    },
    {
      "metadata": {
        "id": "_v-XzpYeDSMh",
        "colab_type": "code",
        "colab": {}
      },
      "cell_type": "code",
      "source": [
        ""
      ],
      "execution_count": 0,
      "outputs": []
    },
    {
      "metadata": {
        "id": "dtty4IbnDR8s",
        "colab_type": "code",
        "colab": {}
      },
      "cell_type": "code",
      "source": [
        ""
      ],
      "execution_count": 0,
      "outputs": []
    },
    {
      "metadata": {
        "colab_type": "code",
        "id": "ysIqx5ELKIlV",
        "colab": {}
      },
      "cell_type": "code",
      "source": [
        ""
      ],
      "execution_count": 0,
      "outputs": []
    },
    {
      "metadata": {
        "id": "iR1UKr8vpr1J",
        "colab_type": "code",
        "outputId": "6c9927e4-9c19-4004-d15c-e3aaf4f50fef",
        "colab": {
          "base_uri": "https://localhost:8080/",
          "height": 357
        }
      },
      "cell_type": "code",
      "source": [
        "from xgboost import XGBClassifier\n",
        "\n",
        "clf = XGBClassifier(random_state=0, max_depth=8, n_jobs=-1, scale_pos_weight=6)\n",
        "classify(clf)"
      ],
      "execution_count": 0,
      "outputs": [
        {
          "output_type": "stream",
          "text": [
            "XGBClassifier(base_score=0.5, booster='gbtree', colsample_bylevel=1,\n",
            "       colsample_bytree=1, gamma=0, learning_rate=0.1, max_delta_step=0,\n",
            "       max_depth=8, min_child_weight=1, missing=None, n_estimators=100,\n",
            "       n_jobs=-1, nthread=None, objective='binary:logistic',\n",
            "       random_state=0, reg_alpha=0, reg_lambda=1, scale_pos_weight=6,\n",
            "       seed=None, silent=True, subsample=1)\n",
            "ROC AUC: 0.605199221682646\n",
            "              precision    recall  f1-score   support\n",
            "\n",
            "           0       0.92      0.95      0.93    105940\n",
            "           1       0.20      0.13      0.16     10586\n",
            "\n",
            "   micro avg       0.87      0.87      0.87    116526\n",
            "   macro avg       0.56      0.54      0.54    116526\n",
            "weighted avg       0.85      0.87      0.86    116526\n",
            "\n",
            "Detailed confusion matrix:\n",
            "[[100476   5464]\n",
            " [  9217   1369]]\n",
            "Accuracy Score: 0.8740109503458455\n"
          ],
          "name": "stdout"
        }
      ]
    },
    {
      "metadata": {
        "id": "n86ejPSp5lcQ",
        "colab_type": "code",
        "colab": {}
      },
      "cell_type": "code",
      "source": [
        ""
      ],
      "execution_count": 0,
      "outputs": []
    },
    {
      "metadata": {
        "id": "xtQ3D4CGpr1M",
        "colab_type": "code",
        "colab": {}
      },
      "cell_type": "code",
      "source": [
        ""
      ],
      "execution_count": 0,
      "outputs": []
    },
    {
      "metadata": {
        "id": "p54c6Dk6pr1Q",
        "colab_type": "code",
        "colab": {}
      },
      "cell_type": "code",
      "source": [
        "to_remove = ['apply', 'search_date_pacific', 'class_id']\n",
        "preprocess(to_remove, normalize=True)"
      ],
      "execution_count": 0,
      "outputs": []
    },
    {
      "metadata": {
        "id": "dT2lBa4mpr1T",
        "colab_type": "code",
        "outputId": "106e4d82-bd76-4391-9e43-a8b39be06bd8",
        "colab": {
          "base_uri": "https://localhost:8080/",
          "height": 391
        }
      },
      "cell_type": "code",
      "source": [
        "clf = XGBClassifier(random_state=0, max_depth=8, n_jobs=-1)\n",
        "classify(clf)"
      ],
      "execution_count": 0,
      "outputs": [
        {
          "output_type": "stream",
          "text": [
            "XGBClassifier(base_score=0.5, booster='gbtree', colsample_bylevel=1,\n",
            "       colsample_bytree=1, gamma=0, learning_rate=0.1, max_delta_step=0,\n",
            "       max_depth=8, min_child_weight=1, missing=None, n_estimators=100,\n",
            "       n_jobs=-1, nthread=None, objective='binary:logistic',\n",
            "       random_state=0, reg_alpha=0, reg_lambda=1, scale_pos_weight=1,\n",
            "       seed=None, silent=True, subsample=1)\n",
            "ROC AUC: 0.6068051184895856\n",
            "              precision    recall  f1-score   support\n",
            "\n",
            "           0       0.91      1.00      0.95    105940\n",
            "           1       0.00      0.00      0.00     10586\n",
            "\n",
            "   micro avg       0.91      0.91      0.91    116526\n",
            "   macro avg       0.45      0.50      0.48    116526\n",
            "weighted avg       0.83      0.91      0.87    116526\n",
            "\n",
            "Detailed confusion matrix:\n",
            "[[105940      0]\n",
            " [ 10586      0]]\n",
            "Accuracy Score: 0.9091533220053893\n"
          ],
          "name": "stdout"
        },
        {
          "output_type": "stream",
          "text": [
            "c:\\python36\\lib\\site-packages\\sklearn\\metrics\\classification.py:1143: UndefinedMetricWarning: Precision and F-score are ill-defined and being set to 0.0 in labels with no predicted samples.\n",
            "  'precision', 'predicted', average, warn_for)\n"
          ],
          "name": "stderr"
        }
      ]
    },
    {
      "metadata": {
        "id": "b4XwOKjEpr1X",
        "colab_type": "code",
        "outputId": "59747b3d-a31f-46ec-88f8-f57286319bc0",
        "colab": {
          "base_uri": "https://localhost:8080/",
          "height": 357
        }
      },
      "cell_type": "code",
      "source": [
        "clf = XGBClassifier(random_state=0, max_depth=8, n_jobs=-1, scale_pos_weight=6)\n",
        "classify(clf)"
      ],
      "execution_count": 0,
      "outputs": [
        {
          "output_type": "stream",
          "text": [
            "XGBClassifier(base_score=0.5, booster='gbtree', colsample_bylevel=1,\n",
            "       colsample_bytree=1, gamma=0, learning_rate=0.1, max_delta_step=0,\n",
            "       max_depth=8, min_child_weight=1, missing=None, n_estimators=100,\n",
            "       n_jobs=-1, nthread=None, objective='binary:logistic',\n",
            "       random_state=0, reg_alpha=0, reg_lambda=1, scale_pos_weight=6,\n",
            "       seed=None, silent=True, subsample=1)\n",
            "ROC AUC: 0.605199221682646\n",
            "              precision    recall  f1-score   support\n",
            "\n",
            "           0       0.92      0.95      0.93    105940\n",
            "           1       0.20      0.13      0.16     10586\n",
            "\n",
            "   micro avg       0.87      0.87      0.87    116526\n",
            "   macro avg       0.56      0.54      0.54    116526\n",
            "weighted avg       0.85      0.87      0.86    116526\n",
            "\n",
            "Detailed confusion matrix:\n",
            "[[100476   5464]\n",
            " [  9217   1369]]\n",
            "Accuracy Score: 0.8740109503458455\n"
          ],
          "name": "stdout"
        }
      ]
    },
    {
      "metadata": {
        "id": "tt2x67Z9upui",
        "colab_type": "code",
        "colab": {}
      },
      "cell_type": "code",
      "source": [
        ""
      ],
      "execution_count": 0,
      "outputs": []
    },
    {
      "metadata": {
        "id": "wcVOSenYuprC",
        "colab_type": "code",
        "colab": {
          "base_uri": "https://localhost:8080/",
          "height": 391
        },
        "outputId": "781cf3ca-c275-4ff3-b818-1365f59ede8d"
      },
      "cell_type": "code",
      "source": [
        "from sklearn.linear_model import LogisticRegression\n",
        "clf = LogisticRegression(random_state=0, class_weight='balanced', n_jobs=-1)\n",
        "classify_with_smote(clf)"
      ],
      "execution_count": 14,
      "outputs": [
        {
          "output_type": "stream",
          "text": [
            "c:\\python36\\lib\\site-packages\\sklearn\\linear_model\\logistic.py:433: FutureWarning: Default solver will be changed to 'lbfgs' in 0.22. Specify a solver to silence this warning.\n",
            "  FutureWarning)\n",
            "c:\\python36\\lib\\site-packages\\sklearn\\linear_model\\logistic.py:1300: UserWarning: 'n_jobs' > 1 does not have any effect when 'solver' is set to 'liblinear'. Got 'n_jobs' = 4.\n",
            "  \" = {}.\".format(effective_n_jobs(self.n_jobs)))\n"
          ],
          "name": "stderr"
        },
        {
          "output_type": "stream",
          "text": [
            "LogisticRegression(C=1.0, class_weight='balanced', dual=False,\n",
            "          fit_intercept=True, intercept_scaling=1, max_iter=100,\n",
            "          multi_class='warn', n_jobs=-1, penalty='l2', random_state=0,\n",
            "          solver='warn', tol=0.0001, verbose=0, warm_start=False)\n",
            "ROC AUC: 0.5886791449776352\n",
            "              precision    recall  f1-score   support\n",
            "\n",
            "           0       0.93      0.65      0.76    105940\n",
            "           1       0.12      0.48      0.19     10586\n",
            "\n",
            "   micro avg       0.64      0.64      0.64    116526\n",
            "   macro avg       0.52      0.56      0.48    116526\n",
            "weighted avg       0.85      0.64      0.71    116526\n",
            "\n",
            "Detailed confusion matrix:\n",
            "[[68991 36949]\n",
            " [ 5555  5031]]\n",
            "Accuracy Score: 0.6352402039029916\n"
          ],
          "name": "stdout"
        }
      ]
    },
    {
      "metadata": {
        "id": "O1Ri7Qrppr1a",
        "colab_type": "code",
        "colab": {
          "base_uri": "https://localhost:8080/",
          "height": 357
        },
        "outputId": "5713e2a4-c311-47f0-d663-fb02455397db"
      },
      "cell_type": "code",
      "source": [
        "from xgboost import XGBClassifier\n",
        "\n",
        "clf = XGBClassifier(random_state=0, max_depth=8, n_jobs=-1)\n",
        "classify_with_smote(clf)"
      ],
      "execution_count": 15,
      "outputs": [
        {
          "output_type": "stream",
          "text": [
            "XGBClassifier(base_score=0.5, booster='gbtree', colsample_bylevel=1,\n",
            "       colsample_bytree=1, gamma=0, learning_rate=0.1, max_delta_step=0,\n",
            "       max_depth=8, min_child_weight=1, missing=None, n_estimators=100,\n",
            "       n_jobs=-1, nthread=None, objective='binary:logistic',\n",
            "       random_state=0, reg_alpha=0, reg_lambda=1, scale_pos_weight=1,\n",
            "       seed=None, silent=True, subsample=1)\n",
            "ROC AUC: 0.5579752325505624\n",
            "              precision    recall  f1-score   support\n",
            "\n",
            "           0       0.91      1.00      0.95    105940\n",
            "           1       0.21      0.00      0.01     10586\n",
            "\n",
            "   micro avg       0.91      0.91      0.91    116526\n",
            "   macro avg       0.56      0.50      0.48    116526\n",
            "weighted avg       0.85      0.91      0.87    116526\n",
            "\n",
            "Detailed confusion matrix:\n",
            "[[105835    105]\n",
            " [ 10558     28]]\n",
            "Accuracy Score: 0.9084925252733296\n"
          ],
          "name": "stdout"
        }
      ]
    },
    {
      "metadata": {
        "id": "_Wtlbu4cpr1e",
        "colab_type": "code",
        "colab": {}
      },
      "cell_type": "code",
      "source": [
        ""
      ],
      "execution_count": 0,
      "outputs": []
    },
    {
      "metadata": {
        "id": "qGpFL24Dpr1g",
        "colab_type": "code",
        "colab": {}
      },
      "cell_type": "code",
      "source": [
        ""
      ],
      "execution_count": 0,
      "outputs": []
    },
    {
      "metadata": {
        "colab_type": "code",
        "id": "54TQ-BPdCnAO",
        "colab": {}
      },
      "cell_type": "code",
      "source": [
        "to_remove = ['apply', 'search_date_pacific']\n",
        "preprocess(to_remove)"
      ],
      "execution_count": 0,
      "outputs": []
    },
    {
      "metadata": {
        "colab_type": "code",
        "id": "fUd-4KTGCm6D",
        "outputId": "12f27aaa-8de7-4b63-b748-3c7acb7bfbe6",
        "colab": {
          "base_uri": "https://localhost:8080/",
          "height": 391
        }
      },
      "cell_type": "code",
      "source": [
        "clf = XGBClassifier(random_state=0, max_depth=8, n_jobs=-1)\n",
        "classify(clf)"
      ],
      "execution_count": 0,
      "outputs": [
        {
          "output_type": "stream",
          "text": [
            "XGBClassifier(base_score=0.5, booster='gbtree', colsample_bylevel=1,\n",
            "       colsample_bytree=1, gamma=0, learning_rate=0.1, max_delta_step=0,\n",
            "       max_depth=8, min_child_weight=1, missing=None, n_estimators=100,\n",
            "       n_jobs=-1, nthread=None, objective='binary:logistic',\n",
            "       random_state=0, reg_alpha=0, reg_lambda=1, scale_pos_weight=1,\n",
            "       seed=None, silent=True, subsample=1)\n",
            "ROC AUC: 0.622422824896411\n",
            "              precision    recall  f1-score   support\n",
            "\n",
            "           0       0.91      1.00      0.95    105940\n",
            "           1       0.00      0.00      0.00     10586\n",
            "\n",
            "   micro avg       0.91      0.91      0.91    116526\n",
            "   macro avg       0.45      0.50      0.48    116526\n",
            "weighted avg       0.83      0.91      0.87    116526\n",
            "\n",
            "Detailed confusion matrix:\n",
            "[[105940      0]\n",
            " [ 10586      0]]\n",
            "Accuracy Score: 0.9091533220053893\n"
          ],
          "name": "stdout"
        },
        {
          "output_type": "stream",
          "text": [
            "c:\\python36\\lib\\site-packages\\sklearn\\metrics\\classification.py:1143: UndefinedMetricWarning: Precision and F-score are ill-defined and being set to 0.0 in labels with no predicted samples.\n",
            "  'precision', 'predicted', average, warn_for)\n"
          ],
          "name": "stderr"
        }
      ]
    },
    {
      "metadata": {
        "id": "7NQSHkahpr1u",
        "colab_type": "code",
        "colab": {}
      },
      "cell_type": "code",
      "source": [
        ""
      ],
      "execution_count": 0,
      "outputs": []
    },
    {
      "metadata": {
        "id": "Q0FRcPUHpr1x",
        "colab_type": "code",
        "outputId": "aa544c0b-2b2a-4bdf-cd38-e31f3da2607c",
        "colab": {
          "base_uri": "https://localhost:8080/",
          "height": 391
        }
      },
      "cell_type": "code",
      "source": [
        "clf = LogisticRegression(random_state=0, class_weight='balanced', n_jobs=-1)\n",
        "classify(clf)"
      ],
      "execution_count": 0,
      "outputs": [
        {
          "output_type": "stream",
          "text": [
            "c:\\python36\\lib\\site-packages\\sklearn\\linear_model\\logistic.py:433: FutureWarning: Default solver will be changed to 'lbfgs' in 0.22. Specify a solver to silence this warning.\n",
            "  FutureWarning)\n",
            "c:\\python36\\lib\\site-packages\\sklearn\\linear_model\\logistic.py:1300: UserWarning: 'n_jobs' > 1 does not have any effect when 'solver' is set to 'liblinear'. Got 'n_jobs' = 4.\n",
            "  \" = {}.\".format(effective_n_jobs(self.n_jobs)))\n"
          ],
          "name": "stderr"
        },
        {
          "output_type": "stream",
          "text": [
            "LogisticRegression(C=1.0, class_weight='balanced', dual=False,\n",
            "          fit_intercept=True, intercept_scaling=1, max_iter=100,\n",
            "          multi_class='warn', n_jobs=-1, penalty='l2', random_state=0,\n",
            "          solver='warn', tol=0.0001, verbose=0, warm_start=False)\n",
            "ROC AUC: 0.5880638495794542\n",
            "              precision    recall  f1-score   support\n",
            "\n",
            "           0       0.93      0.66      0.77    105940\n",
            "           1       0.12      0.47      0.19     10586\n",
            "\n",
            "   micro avg       0.64      0.64      0.64    116526\n",
            "   macro avg       0.52      0.56      0.48    116526\n",
            "weighted avg       0.85      0.64      0.72    116526\n",
            "\n",
            "Detailed confusion matrix:\n",
            "[[69888 36052]\n",
            " [ 5657  4929]]\n",
            "Accuracy Score: 0.6420627156171155\n"
          ],
          "name": "stdout"
        }
      ]
    },
    {
      "metadata": {
        "id": "eMhUBEHFpr1z",
        "colab_type": "code",
        "colab": {}
      },
      "cell_type": "code",
      "source": [
        ""
      ],
      "execution_count": 0,
      "outputs": []
    },
    {
      "metadata": {
        "id": "QPukJmg1pr15",
        "colab_type": "code",
        "colab": {}
      },
      "cell_type": "code",
      "source": [
        "to_remove = ['apply', 'search_date_pacific']\n",
        "preprocess(to_remove, normalize=True)"
      ],
      "execution_count": 0,
      "outputs": []
    },
    {
      "metadata": {
        "id": "R8kBQxyQpr19",
        "colab_type": "code",
        "outputId": "69aefcf7-df86-4a24-df94-1aa9f458bf5c",
        "colab": {
          "base_uri": "https://localhost:8080/",
          "height": 391
        }
      },
      "cell_type": "code",
      "source": [
        "clf = XGBClassifier(random_state=0, max_depth=8, n_jobs=-1, reg_lambda=6)\n",
        "classify(clf)"
      ],
      "execution_count": 0,
      "outputs": [
        {
          "output_type": "stream",
          "text": [
            "XGBClassifier(base_score=0.5, booster='gbtree', colsample_bylevel=1,\n",
            "       colsample_bytree=1, gamma=0, learning_rate=0.1, max_delta_step=0,\n",
            "       max_depth=8, min_child_weight=1, missing=None, n_estimators=100,\n",
            "       n_jobs=-1, nthread=None, objective='binary:logistic',\n",
            "       random_state=0, reg_alpha=0, reg_lambda=6, scale_pos_weight=1,\n",
            "       seed=None, silent=True, subsample=1)\n",
            "ROC AUC: 0.6235080462899393\n",
            "              precision    recall  f1-score   support\n",
            "\n",
            "           0       0.91      1.00      0.95    105940\n",
            "           1       0.00      0.00      0.00     10586\n",
            "\n",
            "   micro avg       0.91      0.91      0.91    116526\n",
            "   macro avg       0.45      0.50      0.48    116526\n",
            "weighted avg       0.83      0.91      0.87    116526\n",
            "\n",
            "Detailed confusion matrix:\n",
            "[[105940      0]\n",
            " [ 10586      0]]\n",
            "Accuracy Score: 0.9091533220053893\n"
          ],
          "name": "stdout"
        },
        {
          "output_type": "stream",
          "text": [
            "c:\\python36\\lib\\site-packages\\sklearn\\metrics\\classification.py:1143: UndefinedMetricWarning: Precision and F-score are ill-defined and being set to 0.0 in labels with no predicted samples.\n",
            "  'precision', 'predicted', average, warn_for)\n"
          ],
          "name": "stderr"
        }
      ]
    },
    {
      "metadata": {
        "id": "GrVxrMi9pr2B",
        "colab_type": "code",
        "colab": {}
      },
      "cell_type": "code",
      "source": [
        ""
      ],
      "execution_count": 0,
      "outputs": []
    },
    {
      "metadata": {
        "id": "NZbA-F7Dpr2D",
        "colab_type": "code",
        "outputId": "23484e5f-f88d-4ac5-a0e2-0bfb85831aac",
        "colab": {
          "base_uri": "https://localhost:8080/",
          "height": 391
        }
      },
      "cell_type": "code",
      "source": [
        "clf = LogisticRegression(C= 0.001, random_state=0, class_weight='balanced', n_jobs=-1)\n",
        "classify(clf)"
      ],
      "execution_count": 0,
      "outputs": [
        {
          "output_type": "stream",
          "text": [
            "c:\\python36\\lib\\site-packages\\sklearn\\linear_model\\logistic.py:433: FutureWarning: Default solver will be changed to 'lbfgs' in 0.22. Specify a solver to silence this warning.\n",
            "  FutureWarning)\n",
            "c:\\python36\\lib\\site-packages\\sklearn\\linear_model\\logistic.py:1300: UserWarning: 'n_jobs' > 1 does not have any effect when 'solver' is set to 'liblinear'. Got 'n_jobs' = 4.\n",
            "  \" = {}.\".format(effective_n_jobs(self.n_jobs)))\n"
          ],
          "name": "stderr"
        },
        {
          "output_type": "stream",
          "text": [
            "LogisticRegression(C=0.001, class_weight='balanced', dual=False,\n",
            "          fit_intercept=True, intercept_scaling=1, max_iter=100,\n",
            "          multi_class='warn', n_jobs=-1, penalty='l2', random_state=0,\n",
            "          solver='warn', tol=0.0001, verbose=0, warm_start=False)\n",
            "ROC AUC: 0.5797081134261731\n",
            "              precision    recall  f1-score   support\n",
            "\n",
            "           0       0.92      0.69      0.79    105940\n",
            "           1       0.12      0.43      0.19     10586\n",
            "\n",
            "   micro avg       0.66      0.66      0.66    116526\n",
            "   macro avg       0.52      0.56      0.49    116526\n",
            "weighted avg       0.85      0.66      0.73    116526\n",
            "\n",
            "Detailed confusion matrix:\n",
            "[[72615 33325]\n",
            " [ 6034  4552]]\n",
            "Accuracy Score: 0.6622298886085509\n"
          ],
          "name": "stdout"
        }
      ]
    },
    {
      "metadata": {
        "id": "8fmipsQ8pr2I",
        "colab_type": "code",
        "colab": {}
      },
      "cell_type": "code",
      "source": [
        ""
      ],
      "execution_count": 0,
      "outputs": []
    },
    {
      "metadata": {
        "id": "5wl0o0wYpr2K",
        "colab_type": "code",
        "colab": {}
      },
      "cell_type": "code",
      "source": [
        "#Took forever to run\n",
        "\n",
        "# from sklearn.svm import SVC\n",
        "\n",
        "# clf = SVC(probability=True, C=0.01)\n",
        "# classify(clf)"
      ],
      "execution_count": 0,
      "outputs": []
    },
    {
      "metadata": {
        "id": "NnCEPM1upr2M",
        "colab_type": "code",
        "outputId": "d0de354f-be06-4e67-f428-471749bb6121",
        "colab": {
          "base_uri": "https://localhost:8080/",
          "height": 357
        }
      },
      "cell_type": "code",
      "source": [
        "clf = XGBClassifier(random_state=0, max_depth=8, n_jobs=-1, reg_lambda=6)\n",
        "classify_with_smote(clf)\n"
      ],
      "execution_count": 0,
      "outputs": [
        {
          "output_type": "stream",
          "text": [
            "XGBClassifier(base_score=0.5, booster='gbtree', colsample_bylevel=1,\n",
            "       colsample_bytree=1, gamma=0, learning_rate=0.1, max_delta_step=0,\n",
            "       max_depth=8, min_child_weight=1, missing=None, n_estimators=100,\n",
            "       n_jobs=-1, nthread=None, objective='binary:logistic',\n",
            "       random_state=0, reg_alpha=0, reg_lambda=6, scale_pos_weight=1,\n",
            "       seed=None, silent=True, subsample=1)\n",
            "ROC AUC: 0.5835380348539883\n",
            "              precision    recall  f1-score   support\n",
            "\n",
            "           0       0.91      1.00      0.95    105940\n",
            "           1       0.25      0.00      0.01     10586\n",
            "\n",
            "   micro avg       0.91      0.91      0.91    116526\n",
            "   macro avg       0.58      0.50      0.48    116526\n",
            "weighted avg       0.85      0.91      0.87    116526\n",
            "\n",
            "Detailed confusion matrix:\n",
            "[[105827    113]\n",
            " [ 10548     38]]\n",
            "Accuracy Score: 0.9085096888248116\n"
          ],
          "name": "stdout"
        }
      ]
    },
    {
      "metadata": {
        "id": "WsVIUdsXpr2R",
        "colab_type": "code",
        "colab": {}
      },
      "cell_type": "code",
      "source": [
        ""
      ],
      "execution_count": 0,
      "outputs": []
    },
    {
      "metadata": {
        "id": "XWuApdaVOeN9",
        "colab_type": "code",
        "colab": {}
      },
      "cell_type": "code",
      "source": [
        ""
      ],
      "execution_count": 0,
      "outputs": []
    },
    {
      "metadata": {
        "id": "uWAE7UW2OeJt",
        "colab_type": "code",
        "outputId": "77142bf7-7ce2-406d-cdb5-f4276959319e",
        "colab": {
          "base_uri": "https://localhost:8080/",
          "height": 391
        }
      },
      "cell_type": "code",
      "source": [
        "clf = LogisticRegression(random_state=0, class_weight='balanced', n_jobs=-1)\n",
        "classify_with_smote(clf)"
      ],
      "execution_count": 0,
      "outputs": [
        {
          "output_type": "stream",
          "text": [
            "c:\\python36\\lib\\site-packages\\sklearn\\linear_model\\logistic.py:433: FutureWarning: Default solver will be changed to 'lbfgs' in 0.22. Specify a solver to silence this warning.\n",
            "  FutureWarning)\n",
            "c:\\python36\\lib\\site-packages\\sklearn\\linear_model\\logistic.py:1300: UserWarning: 'n_jobs' > 1 does not have any effect when 'solver' is set to 'liblinear'. Got 'n_jobs' = 4.\n",
            "  \" = {}.\".format(effective_n_jobs(self.n_jobs)))\n"
          ],
          "name": "stderr"
        },
        {
          "output_type": "stream",
          "text": [
            "LogisticRegression(C=1.0, class_weight='balanced', dual=False,\n",
            "          fit_intercept=True, intercept_scaling=1, max_iter=100,\n",
            "          multi_class='warn', n_jobs=-1, penalty='l2', random_state=0,\n",
            "          solver='warn', tol=0.0001, verbose=0, warm_start=False)\n",
            "ROC AUC: 0.5876126158339006\n",
            "              precision    recall  f1-score   support\n",
            "\n",
            "           0       0.93      0.63      0.75    105940\n",
            "           1       0.12      0.49      0.19     10586\n",
            "\n",
            "   micro avg       0.62      0.62      0.62    116526\n",
            "   macro avg       0.52      0.56      0.47    116526\n",
            "weighted avg       0.85      0.62      0.70    116526\n",
            "\n",
            "Detailed confusion matrix:\n",
            "[[66972 38968]\n",
            " [ 5376  5210]]\n",
            "Accuracy Score: 0.6194497365394848\n"
          ],
          "name": "stdout"
        }
      ]
    }
  ]
}